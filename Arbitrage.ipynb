{
  "nbformat": 4,
  "nbformat_minor": 0,
  "metadata": {
    "colab": {
      "name": "Untitled7.ipynb",
      "version": "0.3.2",
      "provenance": []
    },
    "kernelspec": {
      "name": "python3",
      "display_name": "Python 3"
    }
  },
  "cells": [
    {
      "metadata": {
        "id": "IvZeeye9Sznm",
        "colab_type": "code",
        "colab": {}
      },
      "cell_type": "code",
      "source": [
        "import requests\n",
        "import pandas as pd\n",
        "import matplotlib.pyplot as plt"
      ],
      "execution_count": 0,
      "outputs": []
    },
    {
      "metadata": {
        "id": "P5Ttd0glS0fz",
        "colab_type": "code",
        "colab": {}
      },
      "cell_type": "code",
      "source": [
        "link = \"https://api.cryptonator.com/api/full/btc-usd\""
      ],
      "execution_count": 0,
      "outputs": []
    },
    {
      "metadata": {
        "id": "8nd90muAS3gE",
        "colab_type": "code",
        "colab": {}
      },
      "cell_type": "code",
      "source": [
        "data= requests.get(link).json()['ticker']['markets']"
      ],
      "execution_count": 0,
      "outputs": []
    },
    {
      "metadata": {
        "id": "4JkSLbcCS6Jc",
        "colab_type": "code",
        "colab": {
          "base_uri": "https://localhost:8080/",
          "height": 221
        },
        "outputId": "091af69f-a7bc-45f0-de47-43c6b6b0a4f9"
      },
      "cell_type": "code",
      "source": [
        "data"
      ],
      "execution_count": 4,
      "outputs": [
        {
          "output_type": "execute_result",
          "data": {
            "text/plain": [
              "[{'market': 'BitFinex', 'price': '8066.10000000', 'volume': 59083.69517328},\n",
              " {'market': 'Bitstamp', 'price': '8086.38000000', 'volume': 17858.2603981},\n",
              " {'market': 'Bittrex', 'price': '8060.00000000', 'volume': 5598.10021533},\n",
              " {'market': 'C-Cex', 'price': '8135.99999999', 'volume': 1.65688237},\n",
              " {'market': 'Cex.io', 'price': '8068.00000000', 'volume': 1442.21599334},\n",
              " {'market': 'Exmo', 'price': '8197.00000000', 'volume': 1574.50154875},\n",
              " {'market': 'Hitbtc', 'price': '8316.24000000', 'volume': 7142.4},\n",
              " {'market': 'Kraken', 'price': '8087.00000000', 'volume': 11947.53657599},\n",
              " {'market': 'Livecoin', 'price': '8263.69604000', 'volume': 1181.94102957},\n",
              " {'market': 'Poloniex', 'price': '8079.94742176', 'volume': 3874.45861858},\n",
              " {'market': 'wexnz', 'price': '8070.85000000', 'volume': 1439.52036},\n",
              " {'market': 'YoBit', 'price': '8201.00000008', 'volume': 246.99440622}]"
            ]
          },
          "metadata": {
            "tags": []
          },
          "execution_count": 4
        }
      ]
    },
    {
      "metadata": {
        "id": "po2bYZbGS6t_",
        "colab_type": "code",
        "colab": {}
      },
      "cell_type": "code",
      "source": [
        "markets=pd.DataFrame(data)"
      ],
      "execution_count": 0,
      "outputs": []
    },
    {
      "metadata": {
        "id": "mdMK9AJFT1JT",
        "colab_type": "code",
        "colab": {
          "base_uri": "https://localhost:8080/",
          "height": 421
        },
        "outputId": "e31dcab1-7b80-4f92-f249-bab88441492a"
      },
      "cell_type": "code",
      "source": [
        "markets"
      ],
      "execution_count": 6,
      "outputs": [
        {
          "output_type": "execute_result",
          "data": {
            "text/html": [
              "<div>\n",
              "<style scoped>\n",
              "    .dataframe tbody tr th:only-of-type {\n",
              "        vertical-align: middle;\n",
              "    }\n",
              "\n",
              "    .dataframe tbody tr th {\n",
              "        vertical-align: top;\n",
              "    }\n",
              "\n",
              "    .dataframe thead th {\n",
              "        text-align: right;\n",
              "    }\n",
              "</style>\n",
              "<table border=\"1\" class=\"dataframe\">\n",
              "  <thead>\n",
              "    <tr style=\"text-align: right;\">\n",
              "      <th></th>\n",
              "      <th>market</th>\n",
              "      <th>price</th>\n",
              "      <th>volume</th>\n",
              "    </tr>\n",
              "  </thead>\n",
              "  <tbody>\n",
              "    <tr>\n",
              "      <th>0</th>\n",
              "      <td>BitFinex</td>\n",
              "      <td>8066.10000000</td>\n",
              "      <td>59083.695173</td>\n",
              "    </tr>\n",
              "    <tr>\n",
              "      <th>1</th>\n",
              "      <td>Bitstamp</td>\n",
              "      <td>8086.38000000</td>\n",
              "      <td>17858.260398</td>\n",
              "    </tr>\n",
              "    <tr>\n",
              "      <th>2</th>\n",
              "      <td>Bittrex</td>\n",
              "      <td>8060.00000000</td>\n",
              "      <td>5598.100215</td>\n",
              "    </tr>\n",
              "    <tr>\n",
              "      <th>3</th>\n",
              "      <td>C-Cex</td>\n",
              "      <td>8135.99999999</td>\n",
              "      <td>1.656882</td>\n",
              "    </tr>\n",
              "    <tr>\n",
              "      <th>4</th>\n",
              "      <td>Cex.io</td>\n",
              "      <td>8068.00000000</td>\n",
              "      <td>1442.215993</td>\n",
              "    </tr>\n",
              "    <tr>\n",
              "      <th>5</th>\n",
              "      <td>Exmo</td>\n",
              "      <td>8197.00000000</td>\n",
              "      <td>1574.501549</td>\n",
              "    </tr>\n",
              "    <tr>\n",
              "      <th>6</th>\n",
              "      <td>Hitbtc</td>\n",
              "      <td>8316.24000000</td>\n",
              "      <td>7142.400000</td>\n",
              "    </tr>\n",
              "    <tr>\n",
              "      <th>7</th>\n",
              "      <td>Kraken</td>\n",
              "      <td>8087.00000000</td>\n",
              "      <td>11947.536576</td>\n",
              "    </tr>\n",
              "    <tr>\n",
              "      <th>8</th>\n",
              "      <td>Livecoin</td>\n",
              "      <td>8263.69604000</td>\n",
              "      <td>1181.941030</td>\n",
              "    </tr>\n",
              "    <tr>\n",
              "      <th>9</th>\n",
              "      <td>Poloniex</td>\n",
              "      <td>8079.94742176</td>\n",
              "      <td>3874.458619</td>\n",
              "    </tr>\n",
              "    <tr>\n",
              "      <th>10</th>\n",
              "      <td>wexnz</td>\n",
              "      <td>8070.85000000</td>\n",
              "      <td>1439.520360</td>\n",
              "    </tr>\n",
              "    <tr>\n",
              "      <th>11</th>\n",
              "      <td>YoBit</td>\n",
              "      <td>8201.00000008</td>\n",
              "      <td>246.994406</td>\n",
              "    </tr>\n",
              "  </tbody>\n",
              "</table>\n",
              "</div>"
            ],
            "text/plain": [
              "      market          price        volume\n",
              "0   BitFinex  8066.10000000  59083.695173\n",
              "1   Bitstamp  8086.38000000  17858.260398\n",
              "2    Bittrex  8060.00000000   5598.100215\n",
              "3      C-Cex  8135.99999999      1.656882\n",
              "4     Cex.io  8068.00000000   1442.215993\n",
              "5       Exmo  8197.00000000   1574.501549\n",
              "6     Hitbtc  8316.24000000   7142.400000\n",
              "7     Kraken  8087.00000000  11947.536576\n",
              "8   Livecoin  8263.69604000   1181.941030\n",
              "9   Poloniex  8079.94742176   3874.458619\n",
              "10     wexnz  8070.85000000   1439.520360\n",
              "11     YoBit  8201.00000008    246.994406"
            ]
          },
          "metadata": {
            "tags": []
          },
          "execution_count": 6
        }
      ]
    },
    {
      "metadata": {
        "id": "AublznZgT2U3",
        "colab_type": "code",
        "colab": {
          "base_uri": "https://localhost:8080/",
          "height": 704
        },
        "outputId": "85fe3677-da14-436d-b8e2-3a8ee996cbb4"
      },
      "cell_type": "code",
      "source": [
        "plt.figure(num=None, figsize=(10, 8), dpi=100)\n",
        "plt.scatter(markets[\"price\"], markets[\"volume\"])\n",
        "plt.xlabel('Price')\n",
        "plt.ylabel('Volume')\n",
        "plt.title('Chart For BTC')\n",
        "plt.show()"
      ],
      "execution_count": 9,
      "outputs": [
        {
          "output_type": "display_data",
          "data": {
            "image/png": "[encoded data removed]",
            "text/plain": [
              "<matplotlib.figure.Figure at 0x7f10b9735e48>"
            ]
          },
          "metadata": {
            "tags": []
          }
        }
      ]
    },
    {
      "metadata": {
        "id": "5cl_segtT-7u",
        "colab_type": "code",
        "colab": {}
      },
      "cell_type": "code",
      "source": [
        " max=max(markets[\"price\"])"
      ],
      "execution_count": 0,
      "outputs": []
    },
    {
      "metadata": {
        "id": "OESeVCaBUKAh",
        "colab_type": "code",
        "colab": {
          "base_uri": "https://localhost:8080/",
          "height": 34
        },
        "outputId": "803221e3-a78c-42cc-a79c-fd3c9e8ddf03"
      },
      "cell_type": "code",
      "source": [
        "print(max)"
      ],
      "execution_count": 11,
      "outputs": [
        {
          "output_type": "stream",
          "text": [
            "8316.24000000\n"
          ],
          "name": "stdout"
        }
      ]
    },
    {
      "metadata": {
        "id": "T7X4RjWnUN7F",
        "colab_type": "code",
        "colab": {}
      },
      "cell_type": "code",
      "source": [
        "min=min(markets[\"price\"])"
      ],
      "execution_count": 0,
      "outputs": []
    },
    {
      "metadata": {
        "id": "slEow52LURWs",
        "colab_type": "code",
        "colab": {
          "base_uri": "https://localhost:8080/",
          "height": 34
        },
        "outputId": "73b3a3e2-34a4-4e8c-e6ad-38c35935ce87"
      },
      "cell_type": "code",
      "source": [
        "print(min)"
      ],
      "execution_count": 13,
      "outputs": [
        {
          "output_type": "stream",
          "text": [
            "8060.00000000\n"
          ],
          "name": "stdout"
        }
      ]
    },
    {
      "metadata": {
        "id": "jni0hWoQUS-P",
        "colab_type": "code",
        "colab": {}
      },
      "cell_type": "code",
      "source": [
        "difference=float(max)-float(min)"
      ],
      "execution_count": 0,
      "outputs": []
    },
    {
      "metadata": {
        "id": "M81szwfxUWim",
        "colab_type": "code",
        "colab": {
          "base_uri": "https://localhost:8080/",
          "height": 34
        },
        "outputId": "c42ed53a-9472-4ea3-cb37-783c580378c1"
      },
      "cell_type": "code",
      "source": [
        "print(\"Arbitrage :\", difference)"
      ],
      "execution_count": 18,
      "outputs": [
        {
          "output_type": "stream",
          "text": [
            "Arbitrage : 256.2399999999998\n"
          ],
          "name": "stdout"
        }
      ]
    },
    {
      "metadata": {
        "id": "lixFVMLqU6Ir",
        "colab_type": "code",
        "colab": {}
      },
      "cell_type": "code",
      "source": [
        ""
      ],
      "execution_count": 0,
      "outputs": []
    }
  ]
}