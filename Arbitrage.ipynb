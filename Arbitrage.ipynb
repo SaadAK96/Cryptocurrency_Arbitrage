{
  "nbformat": 4,
  "nbformat_minor": 0,
  "metadata": {
    "colab": {
      "name": "Arbitrage.ipynb",
      "version": "0.3.2",
      "provenance": []
    },
    "kernelspec": {
      "name": "python3",
      "display_name": "Python 3"
    }
  },
  "cells": [
    {
      "metadata": {
        "id": "_u7NzTAdVgOl",
        "colab_type": "code",
        "colab": {}
      },
      "cell_type": "code",
      "source": [
        "import requests\n",
        "import matplotlib.pyplot as plt\n",
        "import pandas as pd\n",
        "import numpy as np"
      ],
      "execution_count": 0,
      "outputs": []
    },
    {
      "metadata": {
        "id": "IDPnKEEjVlOM",
        "colab_type": "code",
        "colab": {}
      },
      "cell_type": "code",
      "source": [
        "link= \"https://api.cryptonator.com/api/full/btc-usd\""
      ],
      "execution_count": 0,
      "outputs": []
    },
    {
      "metadata": {
        "id": "3aijiRJvVrrG",
        "colab_type": "code",
        "colab": {}
      },
      "cell_type": "code",
      "source": [
        "data=requests.get(link).json()['ticker']['markets']"
      ],
      "execution_count": 0,
      "outputs": []
    },
    {
      "metadata": {
        "id": "-VTBD4m6VuvV",
        "colab_type": "code",
        "colab": {
          "base_uri": "https://localhost:8080/",
          "height": 221
        },
        "outputId": "49832fce-7e1f-4e41-ecf7-5bdfc99c7f9b"
      },
      "cell_type": "code",
      "source": [
        "data"
      ],
      "execution_count": 4,
      "outputs": [
        {
          "output_type": "execute_result",
          "data": {
            "text/plain": [
              "[{'market': 'BitFinex', 'price': '8116.70000000', 'volume': 28888.63359612},\n",
              " {'market': 'Bitstamp', 'price': '8117.30000000', 'volume': 8454.02556094},\n",
              " {'market': 'Bittrex', 'price': '8136.05215100', 'volume': 2359.18726237},\n",
              " {'market': 'C-Cex', 'price': '8295.00000000', 'volume': 1.62751995},\n",
              " {'market': 'Cex.io', 'price': '8096.10000000', 'volume': 576.14383477},\n",
              " {'market': 'Exmo', 'price': '8110.51000000', 'volume': 1162.58507738},\n",
              " {'market': 'Hitbtc', 'price': '8273.57000000', 'volume': 5926.67},\n",
              " {'market': 'Kraken', 'price': '8115.00000000', 'volume': 5244.63181863},\n",
              " {'market': 'Livecoin', 'price': '8211.09008000', 'volume': 1742.58520758},\n",
              " {'market': 'Poloniex', 'price': '8121.00000000', 'volume': 1757.06828716},\n",
              " {'market': 'wexnz', 'price': '8119.99000000', 'volume': 924.02314},\n",
              " {'market': 'YoBit', 'price': '8196.00000000', 'volume': 98.55924925}]"
            ]
          },
          "metadata": {
            "tags": []
          },
          "execution_count": 4
        }
      ]
    },
    {
      "metadata": {
        "id": "t6zKMjKpVvys",
        "colab_type": "code",
        "colab": {}
      },
      "cell_type": "code",
      "source": [
        "markets=pd.DataFrame(data)"
      ],
      "execution_count": 0,
      "outputs": []
    },
    {
      "metadata": {
        "id": "BMdpG2NKVzL-",
        "colab_type": "code",
        "colab": {
          "base_uri": "https://localhost:8080/",
          "height": 421
        },
        "outputId": "c4136e68-2b6c-4dbb-ea68-fc165bc1d40e"
      },
      "cell_type": "code",
      "source": [
        "markets"
      ],
      "execution_count": 6,
      "outputs": [
        {
          "output_type": "execute_result",
          "data": {
            "text/html": [
              "<div>\n",
              "<style scoped>\n",
              "    .dataframe tbody tr th:only-of-type {\n",
              "        vertical-align: middle;\n",
              "    }\n",
              "\n",
              "    .dataframe tbody tr th {\n",
              "        vertical-align: top;\n",
              "    }\n",
              "\n",
              "    .dataframe thead th {\n",
              "        text-align: right;\n",
              "    }\n",
              "</style>\n",
              "<table border=\"1\" class=\"dataframe\">\n",
              "  <thead>\n",
              "    <tr style=\"text-align: right;\">\n",
              "      <th></th>\n",
              "      <th>market</th>\n",
              "      <th>price</th>\n",
              "      <th>volume</th>\n",
              "    </tr>\n",
              "  </thead>\n",
              "  <tbody>\n",
              "    <tr>\n",
              "      <th>0</th>\n",
              "      <td>BitFinex</td>\n",
              "      <td>8116.70000000</td>\n",
              "      <td>28888.633596</td>\n",
              "    </tr>\n",
              "    <tr>\n",
              "      <th>1</th>\n",
              "      <td>Bitstamp</td>\n",
              "      <td>8117.30000000</td>\n",
              "      <td>8454.025561</td>\n",
              "    </tr>\n",
              "    <tr>\n",
              "      <th>2</th>\n",
              "      <td>Bittrex</td>\n",
              "      <td>8136.05215100</td>\n",
              "      <td>2359.187262</td>\n",
              "    </tr>\n",
              "    <tr>\n",
              "      <th>3</th>\n",
              "      <td>C-Cex</td>\n",
              "      <td>8295.00000000</td>\n",
              "      <td>1.627520</td>\n",
              "    </tr>\n",
              "    <tr>\n",
              "      <th>4</th>\n",
              "      <td>Cex.io</td>\n",
              "      <td>8096.10000000</td>\n",
              "      <td>576.143835</td>\n",
              "    </tr>\n",
              "    <tr>\n",
              "      <th>5</th>\n",
              "      <td>Exmo</td>\n",
              "      <td>8110.51000000</td>\n",
              "      <td>1162.585077</td>\n",
              "    </tr>\n",
              "    <tr>\n",
              "      <th>6</th>\n",
              "      <td>Hitbtc</td>\n",
              "      <td>8273.57000000</td>\n",
              "      <td>5926.670000</td>\n",
              "    </tr>\n",
              "    <tr>\n",
              "      <th>7</th>\n",
              "      <td>Kraken</td>\n",
              "      <td>8115.00000000</td>\n",
              "      <td>5244.631819</td>\n",
              "    </tr>\n",
              "    <tr>\n",
              "      <th>8</th>\n",
              "      <td>Livecoin</td>\n",
              "      <td>8211.09008000</td>\n",
              "      <td>1742.585208</td>\n",
              "    </tr>\n",
              "    <tr>\n",
              "      <th>9</th>\n",
              "      <td>Poloniex</td>\n",
              "      <td>8121.00000000</td>\n",
              "      <td>1757.068287</td>\n",
              "    </tr>\n",
              "    <tr>\n",
              "      <th>10</th>\n",
              "      <td>wexnz</td>\n",
              "      <td>8119.99000000</td>\n",
              "      <td>924.023140</td>\n",
              "    </tr>\n",
              "    <tr>\n",
              "      <th>11</th>\n",
              "      <td>YoBit</td>\n",
              "      <td>8196.00000000</td>\n",
              "      <td>98.559249</td>\n",
              "    </tr>\n",
              "  </tbody>\n",
              "</table>\n",
              "</div>"
            ],
            "text/plain": [
              "      market          price        volume\n",
              "0   BitFinex  8116.70000000  28888.633596\n",
              "1   Bitstamp  8117.30000000   8454.025561\n",
              "2    Bittrex  8136.05215100   2359.187262\n",
              "3      C-Cex  8295.00000000      1.627520\n",
              "4     Cex.io  8096.10000000    576.143835\n",
              "5       Exmo  8110.51000000   1162.585077\n",
              "6     Hitbtc  8273.57000000   5926.670000\n",
              "7     Kraken  8115.00000000   5244.631819\n",
              "8   Livecoin  8211.09008000   1742.585208\n",
              "9   Poloniex  8121.00000000   1757.068287\n",
              "10     wexnz  8119.99000000    924.023140\n",
              "11     YoBit  8196.00000000     98.559249"
            ]
          },
          "metadata": {
            "tags": []
          },
          "execution_count": 6
        }
      ]
    },
    {
      "metadata": {
        "id": "sbl-Tfg4V01g",
        "colab_type": "code",
        "colab": {}
      },
      "cell_type": "code",
      "source": [
        "labels=np.array(markets['market'].values)                     \n",
        "prices=np.array((markets['price']).values,dtype='float64')  \n",
        "volumes=np.array(markets['volume'].values,dtype='float64')\n"
      ],
      "execution_count": 0,
      "outputs": []
    },
    {
      "metadata": {
        "id": "SCPKsCQCV9gc",
        "colab_type": "code",
        "colab": {
          "base_uri": "https://localhost:8080/",
          "height": 68
        },
        "outputId": "0fd6a7ca-46ae-457d-a29a-4c1f42507c13"
      },
      "cell_type": "code",
      "source": [
        "prices"
      ],
      "execution_count": 8,
      "outputs": [
        {
          "output_type": "execute_result",
          "data": {
            "text/plain": [
              "array([8116.7     , 8117.3     , 8136.052151, 8295.      , 8096.1     ,\n",
              "       8110.51    , 8273.57    , 8115.      , 8211.09008 , 8121.      ,\n",
              "       8119.99    , 8196.      ])"
            ]
          },
          "metadata": {
            "tags": []
          },
          "execution_count": 8
        }
      ]
    },
    {
      "metadata": {
        "id": "bA9Qs9GrWA3b",
        "colab_type": "code",
        "colab": {
          "base_uri": "https://localhost:8080/",
          "height": 704
        },
        "outputId": "8aa751a3-cb3f-473b-e7ef-0a6dde8ab6b8"
      },
      "cell_type": "code",
      "source": [
        "plt.figure(num=None, figsize=(10, 8), dpi=100)     \n",
        "plt.scatter(prices,volumes)                       \n",
        "\n",
        "for label,price,volume in zip(labels,prices,volumes): \n",
        "    plt.annotate(label,\n",
        "                xy=(price,volume),\n",
        "                xytext=(5,-5),\n",
        "                textcoords='offset points',fontsize=10)\n",
        "\n",
        "plt.xlabel('Price')\n",
        "plt.ylabel('Volume')\n",
        "plt.title('Chart For BTC')\n",
        "plt.show()"
      ],
      "execution_count": 9,
      "outputs": [
        {
          "output_type": "display_data",
          "data": {
            "image/png": "[encoded data removed]",
            "text/plain": [
              "<matplotlib.figure.Figure at 0x7fa710bf27b8>"
            ]
          },
          "metadata": {
            "tags": []
          }
        }
      ]
    },
    {
      "metadata": {
        "id": "JClSY23CWLe2",
        "colab_type": "code",
        "colab": {}
      },
      "cell_type": "code",
      "source": [
        "max=max(markets[\"price\"])"
      ],
      "execution_count": 0,
      "outputs": []
    },
    {
      "metadata": {
        "id": "xfLxmdZyXU_Y",
        "colab_type": "code",
        "colab": {
          "base_uri": "https://localhost:8080/",
          "height": 34
        },
        "outputId": "d834fb7c-6f4b-4dd5-a103-8f5a516b9156"
      },
      "cell_type": "code",
      "source": [
        "print(max)"
      ],
      "execution_count": 11,
      "outputs": [
        {
          "output_type": "stream",
          "text": [
            "8295.00000000\n"
          ],
          "name": "stdout"
        }
      ]
    },
    {
      "metadata": {
        "id": "wjGshhO3XYFl",
        "colab_type": "code",
        "colab": {}
      },
      "cell_type": "code",
      "source": [
        "min=min(markets[\"price\"])"
      ],
      "execution_count": 0,
      "outputs": []
    },
    {
      "metadata": {
        "id": "5IFY35MMXZ5L",
        "colab_type": "code",
        "colab": {
          "base_uri": "https://localhost:8080/",
          "height": 34
        },
        "outputId": "d6f3032e-974b-47a3-8da3-4c9bb5f44233"
      },
      "cell_type": "code",
      "source": [
        "print(min)"
      ],
      "execution_count": 13,
      "outputs": [
        {
          "output_type": "stream",
          "text": [
            "8096.10000000\n"
          ],
          "name": "stdout"
        }
      ]
    },
    {
      "metadata": {
        "id": "2-ZXMB_OXcWv",
        "colab_type": "code",
        "colab": {}
      },
      "cell_type": "code",
      "source": [
        "difference=float(max)-float(min)"
      ],
      "execution_count": 0,
      "outputs": []
    },
    {
      "metadata": {
        "id": "LG3z44ooXeqS",
        "colab_type": "code",
        "colab": {
          "base_uri": "https://localhost:8080/",
          "height": 34
        },
        "outputId": "88f14b61-0544-4113-84f2-2f2d48beb6e6"
      },
      "cell_type": "code",
      "source": [
        "print(\"Arbitrage :\", difference)"
      ],
      "execution_count": 15,
      "outputs": [
        {
          "output_type": "stream",
          "text": [
            "Arbitrage : 198.89999999999964\n"
          ],
          "name": "stdout"
        }
      ]
    },
    {
      "metadata": {
        "id": "QNJsoTpBXgbV",
        "colab_type": "code",
        "colab": {}
      },
      "cell_type": "code",
      "source": [
        ""
      ],
      "execution_count": 0,
      "outputs": []
    }
  ]
}