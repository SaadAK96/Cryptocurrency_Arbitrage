{
  "nbformat": 4,
  "nbformat_minor": 0,
  "metadata": {
    "colab": {
      "name": "Arbitrage2.ipynb",
      "version": "0.3.2",
      "provenance": []
    },
    "kernelspec": {
      "name": "python3",
      "display_name": "Python 3"
    }
  },
  "cells": [
    {
      "metadata": {
        "id": "ENPDEoB_4-Rd",
        "colab_type": "code",
        "colab": {}
      },
      "cell_type": "code",
      "source": [
        "import requests\n",
        "import pandas as pd\n",
        "import matplotlib.pyplot as plt"
      ],
      "execution_count": 0,
      "outputs": []
    },
    {
      "metadata": {
        "id": "LLuPRVC05Ar5",
        "colab_type": "code",
        "colab": {}
      },
      "cell_type": "code",
      "source": [
        "link = \"https://api.cryptonator.com/api/full/btc-usd\""
      ],
      "execution_count": 0,
      "outputs": []
    },
    {
      "metadata": {
        "id": "sRcvcyVp5IUC",
        "colab_type": "code",
        "colab": {}
      },
      "cell_type": "code",
      "source": [
        "data= requests.get(link).json()['ticker']['markets']"
      ],
      "execution_count": 0,
      "outputs": []
    },
    {
      "metadata": {
        "id": "j0RbIcU95bt4",
        "colab_type": "code",
        "colab": {
          "base_uri": "https://localhost:8080/",
          "height": 221
        },
        "outputId": "6fd7e3f1-bb3c-4d71-90c4-607fcfc06db2"
      },
      "cell_type": "code",
      "source": [
        "data"
      ],
      "execution_count": 5,
      "outputs": [
        {
          "output_type": "execute_result",
          "data": {
            "text/plain": [
              "[{'market': 'BitFinex', 'price': '8131.70000000', 'volume': 24218.69641745},\n",
              " {'market': 'Bitstamp', 'price': '8130.00000000', 'volume': 6643.94482403},\n",
              " {'market': 'Bittrex', 'price': '8140.99000016', 'volume': 1880.36041224},\n",
              " {'market': 'C-Cex', 'price': '8118.99999900', 'volume': 1.11870995},\n",
              " {'market': 'Cex.io', 'price': '8067.00000000', 'volume': 476.09663815},\n",
              " {'market': 'Exmo', 'price': '8115.01000000', 'volume': 1068.71902174},\n",
              " {'market': 'Hitbtc', 'price': '8317.35000000', 'volume': 4607},\n",
              " {'market': 'Kraken', 'price': '8134.60000000', 'volume': 3289.32306058},\n",
              " {'market': 'Livecoin', 'price': '8146.84000000', 'volume': 1619.54695965},\n",
              " {'market': 'Poloniex', 'price': '8122.01649636', 'volume': 1662.76466853},\n",
              " {'market': 'wexnz', 'price': '8134.99900000', 'volume': 756.54988},\n",
              " {'market': 'YoBit', 'price': '8188.00000000', 'volume': 85.40401101}]"
            ]
          },
          "metadata": {
            "tags": []
          },
          "execution_count": 5
        }
      ]
    },
    {
      "metadata": {
        "id": "sgPpjKo952i5",
        "colab_type": "code",
        "colab": {}
      },
      "cell_type": "code",
      "source": [
        "markets=pd.DataFrame(data)"
      ],
      "execution_count": 0,
      "outputs": []
    },
    {
      "metadata": {
        "id": "axxR4Ew_56Pw",
        "colab_type": "code",
        "colab": {
          "base_uri": "https://localhost:8080/",
          "height": 421
        },
        "outputId": "38fe24e9-cb86-444c-ebcd-67a774bd7612"
      },
      "cell_type": "code",
      "source": [
        "markets"
      ],
      "execution_count": 7,
      "outputs": [
        {
          "output_type": "execute_result",
          "data": {
            "text/html": [
              "<div>\n",
              "<style scoped>\n",
              "    .dataframe tbody tr th:only-of-type {\n",
              "        vertical-align: middle;\n",
              "    }\n",
              "\n",
              "    .dataframe tbody tr th {\n",
              "        vertical-align: top;\n",
              "    }\n",
              "\n",
              "    .dataframe thead th {\n",
              "        text-align: right;\n",
              "    }\n",
              "</style>\n",
              "<table border=\"1\" class=\"dataframe\">\n",
              "  <thead>\n",
              "    <tr style=\"text-align: right;\">\n",
              "      <th></th>\n",
              "      <th>market</th>\n",
              "      <th>price</th>\n",
              "      <th>volume</th>\n",
              "    </tr>\n",
              "  </thead>\n",
              "  <tbody>\n",
              "    <tr>\n",
              "      <th>0</th>\n",
              "      <td>BitFinex</td>\n",
              "      <td>8131.70000000</td>\n",
              "      <td>24218.696417</td>\n",
              "    </tr>\n",
              "    <tr>\n",
              "      <th>1</th>\n",
              "      <td>Bitstamp</td>\n",
              "      <td>8130.00000000</td>\n",
              "      <td>6643.944824</td>\n",
              "    </tr>\n",
              "    <tr>\n",
              "      <th>2</th>\n",
              "      <td>Bittrex</td>\n",
              "      <td>8140.99000016</td>\n",
              "      <td>1880.360412</td>\n",
              "    </tr>\n",
              "    <tr>\n",
              "      <th>3</th>\n",
              "      <td>C-Cex</td>\n",
              "      <td>8118.99999900</td>\n",
              "      <td>1.118710</td>\n",
              "    </tr>\n",
              "    <tr>\n",
              "      <th>4</th>\n",
              "      <td>Cex.io</td>\n",
              "      <td>8067.00000000</td>\n",
              "      <td>476.096638</td>\n",
              "    </tr>\n",
              "    <tr>\n",
              "      <th>5</th>\n",
              "      <td>Exmo</td>\n",
              "      <td>8115.01000000</td>\n",
              "      <td>1068.719022</td>\n",
              "    </tr>\n",
              "    <tr>\n",
              "      <th>6</th>\n",
              "      <td>Hitbtc</td>\n",
              "      <td>8317.35000000</td>\n",
              "      <td>4607.000000</td>\n",
              "    </tr>\n",
              "    <tr>\n",
              "      <th>7</th>\n",
              "      <td>Kraken</td>\n",
              "      <td>8134.60000000</td>\n",
              "      <td>3289.323061</td>\n",
              "    </tr>\n",
              "    <tr>\n",
              "      <th>8</th>\n",
              "      <td>Livecoin</td>\n",
              "      <td>8146.84000000</td>\n",
              "      <td>1619.546960</td>\n",
              "    </tr>\n",
              "    <tr>\n",
              "      <th>9</th>\n",
              "      <td>Poloniex</td>\n",
              "      <td>8122.01649636</td>\n",
              "      <td>1662.764669</td>\n",
              "    </tr>\n",
              "    <tr>\n",
              "      <th>10</th>\n",
              "      <td>wexnz</td>\n",
              "      <td>8134.99900000</td>\n",
              "      <td>756.549880</td>\n",
              "    </tr>\n",
              "    <tr>\n",
              "      <th>11</th>\n",
              "      <td>YoBit</td>\n",
              "      <td>8188.00000000</td>\n",
              "      <td>85.404011</td>\n",
              "    </tr>\n",
              "  </tbody>\n",
              "</table>\n",
              "</div>"
            ],
            "text/plain": [
              "      market          price        volume\n",
              "0   BitFinex  8131.70000000  24218.696417\n",
              "1   Bitstamp  8130.00000000   6643.944824\n",
              "2    Bittrex  8140.99000016   1880.360412\n",
              "3      C-Cex  8118.99999900      1.118710\n",
              "4     Cex.io  8067.00000000    476.096638\n",
              "5       Exmo  8115.01000000   1068.719022\n",
              "6     Hitbtc  8317.35000000   4607.000000\n",
              "7     Kraken  8134.60000000   3289.323061\n",
              "8   Livecoin  8146.84000000   1619.546960\n",
              "9   Poloniex  8122.01649636   1662.764669\n",
              "10     wexnz  8134.99900000    756.549880\n",
              "11     YoBit  8188.00000000     85.404011"
            ]
          },
          "metadata": {
            "tags": []
          },
          "execution_count": 7
        }
      ]
    },
    {
      "metadata": {
        "id": "5VJgZgZ458PS",
        "colab_type": "code",
        "colab": {
          "base_uri": "https://localhost:8080/",
          "height": 704
        },
        "outputId": "659a3209-c686-427d-faaf-7d9c17a3ed36"
      },
      "cell_type": "code",
      "source": [
        "plt.figure(num=None, figsize=(10, 8), dpi=100)\n",
        "plt.scatter(markets[\"price\"], markets[\"volume\"])\n",
        "for i, txt in enumerate(markets[\"market\"]):\n",
        "        plt.annotate(txt, (markets[\"price\"][i], markets[\"volume\"][i]))\n",
        "plt.xlabel('Price')\n",
        "plt.ylabel('Volume')\n",
        "plt.title('Chart For BTC')\n",
        "plt.show()"
      ],
      "execution_count": 8,
      "outputs": [
        {
          "output_type": "display_data",
          "data": {
            "image/png": "[encoded data removed]",
            "text/plain": [
              "<matplotlib.figure.Figure at 0x7faaf52a55c0>"
            ]
          },
          "metadata": {
            "tags": []
          }
        }
      ]
    },
    {
      "metadata": {
        "id": "3J5FGd1G6GE4",
        "colab_type": "code",
        "colab": {}
      },
      "cell_type": "code",
      "source": [
        " max=max(markets[\"price\"])"
      ],
      "execution_count": 0,
      "outputs": []
    },
    {
      "metadata": {
        "id": "K0FvXQPH6KPm",
        "colab_type": "code",
        "colab": {
          "base_uri": "https://localhost:8080/",
          "height": 34
        },
        "outputId": "0c91912f-727c-4ff9-d657-30abbacaa7a3"
      },
      "cell_type": "code",
      "source": [
        "print(max)"
      ],
      "execution_count": 10,
      "outputs": [
        {
          "output_type": "stream",
          "text": [
            "8317.35000000\n"
          ],
          "name": "stdout"
        }
      ]
    },
    {
      "metadata": {
        "id": "2R0LUB3k6MLb",
        "colab_type": "code",
        "colab": {}
      },
      "cell_type": "code",
      "source": [
        "min=min(markets[\"price\"])"
      ],
      "execution_count": 0,
      "outputs": []
    },
    {
      "metadata": {
        "id": "vYyp_oEZ6PRt",
        "colab_type": "code",
        "colab": {
          "base_uri": "https://localhost:8080/",
          "height": 34
        },
        "outputId": "a8b67b1f-b335-42e6-f8f2-49977feb9151"
      },
      "cell_type": "code",
      "source": [
        "print(min)"
      ],
      "execution_count": 12,
      "outputs": [
        {
          "output_type": "stream",
          "text": [
            "8067.00000000\n"
          ],
          "name": "stdout"
        }
      ]
    },
    {
      "metadata": {
        "id": "oFgj9cGE6RBz",
        "colab_type": "code",
        "colab": {}
      },
      "cell_type": "code",
      "source": [
        "difference=float(max)-float(min)"
      ],
      "execution_count": 0,
      "outputs": []
    },
    {
      "metadata": {
        "id": "otuRfmcD6Tm9",
        "colab_type": "code",
        "colab": {
          "base_uri": "https://localhost:8080/",
          "height": 34
        },
        "outputId": "4e150755-5f1b-4ca9-eb43-542230ce8eb2"
      },
      "cell_type": "code",
      "source": [
        "print(\"Arbitrage :\", difference)"
      ],
      "execution_count": 14,
      "outputs": [
        {
          "output_type": "stream",
          "text": [
            "Arbitrage : 250.35000000000036\n"
          ],
          "name": "stdout"
        }
      ]
    },
    {
      "metadata": {
        "id": "qCAAVXCJ6VeG",
        "colab_type": "code",
        "colab": {}
      },
      "cell_type": "code",
      "source": [
        ""
      ],
      "execution_count": 0,
      "outputs": []
    }
  ]
}