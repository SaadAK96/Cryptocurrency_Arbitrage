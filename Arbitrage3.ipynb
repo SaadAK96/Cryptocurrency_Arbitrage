{
  "nbformat": 4,
  "nbformat_minor": 0,
  "metadata": {
    "colab": {
      "name": "Arbitrage3.ipynb",
      "version": "0.3.2",
      "provenance": []
    },
    "kernelspec": {
      "name": "python3",
      "display_name": "Python 3"
    }
  },
  "cells": [
    {
      "metadata": {
        "id": "yGsghWl2OlXk",
        "colab_type": "code",
        "colab": {}
      },
      "cell_type": "code",
      "source": [
        "import requests\n",
        "import matplotlib.pyplot as plt\n",
        "import pandas as pd\n",
        "import numpy as np\n"
      ],
      "execution_count": 0,
      "outputs": []
    },
    {
      "metadata": {
        "id": "924wvubAOmjR",
        "colab_type": "code",
        "colab": {}
      },
      "cell_type": "code",
      "source": [
        "link= \"https://api.cryptonator.com/api/full/btc-usd\""
      ],
      "execution_count": 0,
      "outputs": []
    },
    {
      "metadata": {
        "id": "3hSk0vwFOrTb",
        "colab_type": "code",
        "colab": {}
      },
      "cell_type": "code",
      "source": [
        "data=requests.get(link).json()['ticker']['markets']"
      ],
      "execution_count": 0,
      "outputs": []
    },
    {
      "metadata": {
        "id": "gj9MD3lEO1P9",
        "colab_type": "code",
        "colab": {
          "base_uri": "https://localhost:8080/",
          "height": 221
        },
        "outputId": "01b56d35-8642-4e34-98f4-1c63ed777848"
      },
      "cell_type": "code",
      "source": [
        "data\n"
      ],
      "execution_count": 4,
      "outputs": [
        {
          "output_type": "execute_result",
          "data": {
            "text/plain": [
              "[{'market': 'BitFinex', 'price': '7977.90000000', 'volume': 24797.49784626},\n",
              " {'market': 'Bitstamp', 'price': '7974.21000000', 'volume': 6806.55583463},\n",
              " {'market': 'Bittrex', 'price': '8010.00000000', 'volume': 2446.60094961},\n",
              " {'market': 'C-Cex', 'price': '8099.99999999', 'volume': 1.48843494},\n",
              " {'market': 'Cex.io', 'price': '8002.00000000', 'volume': 598.13244566},\n",
              " {'market': 'Exmo', 'price': '8040.80000000', 'volume': 1069.86543978},\n",
              " {'market': 'Hitbtc', 'price': '8232.95000000', 'volume': 5547.28},\n",
              " {'market': 'Kraken', 'price': '7979.60000000', 'volume': 4054.93269969},\n",
              " {'market': 'Livecoin', 'price': '8125.00000000', 'volume': 1282.36835722},\n",
              " {'market': 'Poloniex', 'price': '7974.51373682', 'volume': 1528.67397341},\n",
              " {'market': 'wexnz', 'price': '8002.40000000', 'volume': 776.44204},\n",
              " {'market': 'YoBit', 'price': '8099.19654120', 'volume': 81.34894412}]"
            ]
          },
          "metadata": {
            "tags": []
          },
          "execution_count": 4
        }
      ]
    },
    {
      "metadata": {
        "id": "GUaDY84DO3Hp",
        "colab_type": "code",
        "colab": {}
      },
      "cell_type": "code",
      "source": [
        "markets=pd.DataFrame(data)"
      ],
      "execution_count": 0,
      "outputs": []
    },
    {
      "metadata": {
        "id": "9kX3U_8EO6Fc",
        "colab_type": "code",
        "colab": {
          "base_uri": "https://localhost:8080/",
          "height": 421
        },
        "outputId": "fe78489a-5533-4b84-b6e3-edb0fa455cce"
      },
      "cell_type": "code",
      "source": [
        "markets"
      ],
      "execution_count": 6,
      "outputs": [
        {
          "output_type": "execute_result",
          "data": {
            "text/html": [
              "<div>\n",
              "<style scoped>\n",
              "    .dataframe tbody tr th:only-of-type {\n",
              "        vertical-align: middle;\n",
              "    }\n",
              "\n",
              "    .dataframe tbody tr th {\n",
              "        vertical-align: top;\n",
              "    }\n",
              "\n",
              "    .dataframe thead th {\n",
              "        text-align: right;\n",
              "    }\n",
              "</style>\n",
              "<table border=\"1\" class=\"dataframe\">\n",
              "  <thead>\n",
              "    <tr style=\"text-align: right;\">\n",
              "      <th></th>\n",
              "      <th>market</th>\n",
              "      <th>price</th>\n",
              "      <th>volume</th>\n",
              "    </tr>\n",
              "  </thead>\n",
              "  <tbody>\n",
              "    <tr>\n",
              "      <th>0</th>\n",
              "      <td>BitFinex</td>\n",
              "      <td>7977.90000000</td>\n",
              "      <td>24797.497846</td>\n",
              "    </tr>\n",
              "    <tr>\n",
              "      <th>1</th>\n",
              "      <td>Bitstamp</td>\n",
              "      <td>7974.21000000</td>\n",
              "      <td>6806.555835</td>\n",
              "    </tr>\n",
              "    <tr>\n",
              "      <th>2</th>\n",
              "      <td>Bittrex</td>\n",
              "      <td>8010.00000000</td>\n",
              "      <td>2446.600950</td>\n",
              "    </tr>\n",
              "    <tr>\n",
              "      <th>3</th>\n",
              "      <td>C-Cex</td>\n",
              "      <td>8099.99999999</td>\n",
              "      <td>1.488435</td>\n",
              "    </tr>\n",
              "    <tr>\n",
              "      <th>4</th>\n",
              "      <td>Cex.io</td>\n",
              "      <td>8002.00000000</td>\n",
              "      <td>598.132446</td>\n",
              "    </tr>\n",
              "    <tr>\n",
              "      <th>5</th>\n",
              "      <td>Exmo</td>\n",
              "      <td>8040.80000000</td>\n",
              "      <td>1069.865440</td>\n",
              "    </tr>\n",
              "    <tr>\n",
              "      <th>6</th>\n",
              "      <td>Hitbtc</td>\n",
              "      <td>8232.95000000</td>\n",
              "      <td>5547.280000</td>\n",
              "    </tr>\n",
              "    <tr>\n",
              "      <th>7</th>\n",
              "      <td>Kraken</td>\n",
              "      <td>7979.60000000</td>\n",
              "      <td>4054.932700</td>\n",
              "    </tr>\n",
              "    <tr>\n",
              "      <th>8</th>\n",
              "      <td>Livecoin</td>\n",
              "      <td>8125.00000000</td>\n",
              "      <td>1282.368357</td>\n",
              "    </tr>\n",
              "    <tr>\n",
              "      <th>9</th>\n",
              "      <td>Poloniex</td>\n",
              "      <td>7974.51373682</td>\n",
              "      <td>1528.673973</td>\n",
              "    </tr>\n",
              "    <tr>\n",
              "      <th>10</th>\n",
              "      <td>wexnz</td>\n",
              "      <td>8002.40000000</td>\n",
              "      <td>776.442040</td>\n",
              "    </tr>\n",
              "    <tr>\n",
              "      <th>11</th>\n",
              "      <td>YoBit</td>\n",
              "      <td>8099.19654120</td>\n",
              "      <td>81.348944</td>\n",
              "    </tr>\n",
              "  </tbody>\n",
              "</table>\n",
              "</div>"
            ],
            "text/plain": [
              "      market          price        volume\n",
              "0   BitFinex  7977.90000000  24797.497846\n",
              "1   Bitstamp  7974.21000000   6806.555835\n",
              "2    Bittrex  8010.00000000   2446.600950\n",
              "3      C-Cex  8099.99999999      1.488435\n",
              "4     Cex.io  8002.00000000    598.132446\n",
              "5       Exmo  8040.80000000   1069.865440\n",
              "6     Hitbtc  8232.95000000   5547.280000\n",
              "7     Kraken  7979.60000000   4054.932700\n",
              "8   Livecoin  8125.00000000   1282.368357\n",
              "9   Poloniex  7974.51373682   1528.673973\n",
              "10     wexnz  8002.40000000    776.442040\n",
              "11     YoBit  8099.19654120     81.348944"
            ]
          },
          "metadata": {
            "tags": []
          },
          "execution_count": 6
        }
      ]
    },
    {
      "metadata": {
        "id": "zP8IIzM4PFoD",
        "colab_type": "code",
        "colab": {
          "base_uri": "https://localhost:8080/",
          "height": 68
        },
        "outputId": "0ab241ce-197d-468b-8505-92d20b305167"
      },
      "cell_type": "code",
      "source": [
        "labels=np.array(markets['market'].values)                   #STORING THE MARKET NAMES IN LABELS ADDING .VALUES AT THE END TO GET VALUES  \n",
        "prices=np.array((markets['price']).values,dtype='float64')  #AND CONVERTING THE IN ARRAYS USING NUMPY OF DATA TYPE FLOAT64\n",
        "volumes=np.array(markets['volume'].values,dtype='float64')\n",
        "labels"
      ],
      "execution_count": 13,
      "outputs": [
        {
          "output_type": "execute_result",
          "data": {
            "text/plain": [
              "array(['BitFinex', 'Bitstamp', 'Bittrex', 'C-Cex', 'Cex.io', 'Exmo',\n",
              "       'Hitbtc', 'Kraken', 'Livecoin', 'Poloniex', 'wexnz', 'YoBit'],\n",
              "      dtype=object)"
            ]
          },
          "metadata": {
            "tags": []
          },
          "execution_count": 13
        }
      ]
    },
    {
      "metadata": {
        "id": "81EbrckLPSff",
        "colab_type": "code",
        "colab": {
          "base_uri": "https://localhost:8080/",
          "height": 68
        },
        "outputId": "af8462e4-7e3e-4806-e2d3-09e84fd8b3e8"
      },
      "cell_type": "code",
      "source": [
        "prices"
      ],
      "execution_count": 14,
      "outputs": [
        {
          "output_type": "execute_result",
          "data": {
            "text/plain": [
              "array([7977.9       , 7974.21      , 8010.        , 8099.99999999,\n",
              "       8002.        , 8040.8       , 8232.95      , 7979.6       ,\n",
              "       8125.        , 7974.51373682, 8002.4       , 8099.1965412 ])"
            ]
          },
          "metadata": {
            "tags": []
          },
          "execution_count": 14
        }
      ]
    },
    {
      "metadata": {
        "id": "8PJG2C1pQjdB",
        "colab_type": "code",
        "colab": {
          "base_uri": "https://localhost:8080/",
          "height": 553
        },
        "outputId": "4978fba6-244d-48e5-962e-da5dc998ef4c"
      },
      "cell_type": "code",
      "source": [
        "plt.figure(num=None, figsize=(8, 6), dpi=100)     \n",
        "plt.scatter(prices,volumes)                       \n",
        "\n",
        "for label,price,volume in zip(labels,prices,volumes): \n",
        "    plt.annotate(label,\n",
        "                xy=(price,volume),\n",
        "                xytext=(5,-5),\n",
        "                textcoords='offset points',fontsize=10)\n",
        "\n",
        "plt.xlabel('Price')\n",
        "plt.ylabel('Volume')\n",
        "plt.title('Chart For BTC')\n",
        "plt.show()"
      ],
      "execution_count": 21,
      "outputs": [
        {
          "output_type": "display_data",
          "data": {
            "image/png": "[encoded data removed]",
            "text/plain": [
              "<matplotlib.figure.Figure at 0x7f393475e4e0>"
            ]
          },
          "metadata": {
            "tags": []
          }
        }
      ]
    },
    {
      "metadata": {
        "id": "InRFf_J8Q3bL",
        "colab_type": "code",
        "colab": {}
      },
      "cell_type": "code",
      "source": [
        ""
      ],
      "execution_count": 0,
      "outputs": []
    }
  ]
}